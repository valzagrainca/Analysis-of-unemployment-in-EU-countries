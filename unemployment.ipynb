{
 "cells": [
  {
   "cell_type": "markdown",
   "metadata": {},
   "source": [
    "Import nessecary dependencies"
   ]
  },
  {
   "cell_type": "code",
   "execution_count": 357,
   "metadata": {},
   "outputs": [],
   "source": [
    "import pandas as pd\n",
    "import warnings\n",
    "warnings.filterwarnings(\"ignore\")\n",
    "import re\n",
    "import matplotlib.pyplot as plt\n",
    "from scipy import stats\n",
    "import numpy as np"
   ]
  },
  {
   "cell_type": "markdown",
   "metadata": {},
   "source": [
    "The unemployment dataset is as TSV (tab separated format) file. We use read_csv with \\t separator for reading the data."
   ]
  },
  {
   "cell_type": "code",
   "execution_count": 358,
   "metadata": {},
   "outputs": [
    {
     "data": {
      "text/html": [
       "<div>\n",
       "<style scoped>\n",
       "    .dataframe tbody tr th:only-of-type {\n",
       "        vertical-align: middle;\n",
       "    }\n",
       "\n",
       "    .dataframe tbody tr th {\n",
       "        vertical-align: top;\n",
       "    }\n",
       "\n",
       "    .dataframe thead th {\n",
       "        text-align: right;\n",
       "    }\n",
       "</style>\n",
       "<table border=\"1\" class=\"dataframe\">\n",
       "  <thead>\n",
       "    <tr style=\"text-align: right;\">\n",
       "      <th></th>\n",
       "      <th>s_adj,age,unit,sex,geo\\time</th>\n",
       "      <th>2020M07</th>\n",
       "      <th>2020M06</th>\n",
       "      <th>2020M05</th>\n",
       "      <th>2020M04</th>\n",
       "      <th>2020M03</th>\n",
       "      <th>2020M02</th>\n",
       "      <th>2020M01</th>\n",
       "      <th>2019M12</th>\n",
       "      <th>2019M11</th>\n",
       "      <th>...</th>\n",
       "      <th>1983M10</th>\n",
       "      <th>1983M09</th>\n",
       "      <th>1983M08</th>\n",
       "      <th>1983M07</th>\n",
       "      <th>1983M06</th>\n",
       "      <th>1983M05</th>\n",
       "      <th>1983M04</th>\n",
       "      <th>1983M03</th>\n",
       "      <th>1983M02</th>\n",
       "      <th>1983M01</th>\n",
       "    </tr>\n",
       "  </thead>\n",
       "  <tbody>\n",
       "    <tr>\n",
       "      <th>0</th>\n",
       "      <td>NSA,TOTAL,PC_ACT,F,AT</td>\n",
       "      <td>6.0</td>\n",
       "      <td>6.2</td>\n",
       "      <td>5.2</td>\n",
       "      <td>4.9</td>\n",
       "      <td>4.7</td>\n",
       "      <td>4.1</td>\n",
       "      <td>4.4</td>\n",
       "      <td>4.0</td>\n",
       "      <td>3.9</td>\n",
       "      <td>...</td>\n",
       "      <td>:</td>\n",
       "      <td>:</td>\n",
       "      <td>:</td>\n",
       "      <td>:</td>\n",
       "      <td>:</td>\n",
       "      <td>:</td>\n",
       "      <td>:</td>\n",
       "      <td>:</td>\n",
       "      <td>:</td>\n",
       "      <td>:</td>\n",
       "    </tr>\n",
       "    <tr>\n",
       "      <th>1</th>\n",
       "      <td>NSA,TOTAL,PC_ACT,F,BE</td>\n",
       "      <td>5.4</td>\n",
       "      <td>5.0</td>\n",
       "      <td>5.0</td>\n",
       "      <td>5.2</td>\n",
       "      <td>5.0</td>\n",
       "      <td>4.9</td>\n",
       "      <td>4.8</td>\n",
       "      <td>4.6</td>\n",
       "      <td>4.5</td>\n",
       "      <td>...</td>\n",
       "      <td>:</td>\n",
       "      <td>:</td>\n",
       "      <td>:</td>\n",
       "      <td>:</td>\n",
       "      <td>:</td>\n",
       "      <td>:</td>\n",
       "      <td>:</td>\n",
       "      <td>:</td>\n",
       "      <td>:</td>\n",
       "      <td>:</td>\n",
       "    </tr>\n",
       "    <tr>\n",
       "      <th>2</th>\n",
       "      <td>NSA,TOTAL,PC_ACT,F,BG</td>\n",
       "      <td>3.9</td>\n",
       "      <td>3.9</td>\n",
       "      <td>4.2</td>\n",
       "      <td>4.7</td>\n",
       "      <td>4.1</td>\n",
       "      <td>4.2</td>\n",
       "      <td>4.3</td>\n",
       "      <td>3.9</td>\n",
       "      <td>3.8</td>\n",
       "      <td>...</td>\n",
       "      <td>:</td>\n",
       "      <td>:</td>\n",
       "      <td>:</td>\n",
       "      <td>:</td>\n",
       "      <td>:</td>\n",
       "      <td>:</td>\n",
       "      <td>:</td>\n",
       "      <td>:</td>\n",
       "      <td>:</td>\n",
       "      <td>:</td>\n",
       "    </tr>\n",
       "    <tr>\n",
       "      <th>3</th>\n",
       "      <td>NSA,TOTAL,PC_ACT,F,CH</td>\n",
       "      <td>:</td>\n",
       "      <td>4.4</td>\n",
       "      <td>4.3</td>\n",
       "      <td>4.4</td>\n",
       "      <td>4.6</td>\n",
       "      <td>4.6</td>\n",
       "      <td>4.5</td>\n",
       "      <td>4.1</td>\n",
       "      <td>4.0</td>\n",
       "      <td>...</td>\n",
       "      <td>:</td>\n",
       "      <td>:</td>\n",
       "      <td>:</td>\n",
       "      <td>:</td>\n",
       "      <td>:</td>\n",
       "      <td>:</td>\n",
       "      <td>:</td>\n",
       "      <td>:</td>\n",
       "      <td>:</td>\n",
       "      <td>:</td>\n",
       "    </tr>\n",
       "    <tr>\n",
       "      <th>4</th>\n",
       "      <td>NSA,TOTAL,PC_ACT,F,CY</td>\n",
       "      <td>7.2</td>\n",
       "      <td>6.6</td>\n",
       "      <td>6.4</td>\n",
       "      <td>6.8</td>\n",
       "      <td>7.1</td>\n",
       "      <td>7.5</td>\n",
       "      <td>7.9</td>\n",
       "      <td>7.5</td>\n",
       "      <td>7.7</td>\n",
       "      <td>...</td>\n",
       "      <td>:</td>\n",
       "      <td>:</td>\n",
       "      <td>:</td>\n",
       "      <td>:</td>\n",
       "      <td>:</td>\n",
       "      <td>:</td>\n",
       "      <td>:</td>\n",
       "      <td>:</td>\n",
       "      <td>:</td>\n",
       "      <td>:</td>\n",
       "    </tr>\n",
       "  </tbody>\n",
       "</table>\n",
       "<p>5 rows × 452 columns</p>\n",
       "</div>"
      ],
      "text/plain": [
       "  s_adj,age,unit,sex,geo\\time 2020M07  2020M06  2020M05  2020M04  2020M03   \\\n",
       "0       NSA,TOTAL,PC_ACT,F,AT     6.0      6.2      5.2      4.9      4.7    \n",
       "1       NSA,TOTAL,PC_ACT,F,BE     5.4      5.0      5.0      5.2      5.0    \n",
       "2       NSA,TOTAL,PC_ACT,F,BG     3.9      3.9      4.2      4.7      4.1    \n",
       "3       NSA,TOTAL,PC_ACT,F,CH       :      4.4      4.3      4.4      4.6    \n",
       "4       NSA,TOTAL,PC_ACT,F,CY     7.2      6.6      6.4      6.8      7.1    \n",
       "\n",
       "  2020M02  2020M01  2019M12  2019M11   ... 1983M10  1983M09  1983M08   \\\n",
       "0     4.1      4.4      4.0      3.9   ...       :        :        :    \n",
       "1     4.9      4.8      4.6      4.5   ...       :        :        :    \n",
       "2     4.2      4.3      3.9      3.8   ...       :        :        :    \n",
       "3     4.6      4.5      4.1      4.0   ...       :        :        :    \n",
       "4     7.5      7.9      7.5      7.7   ...       :        :        :    \n",
       "\n",
       "  1983M07  1983M06  1983M05  1983M04  1983M03  1983M02  1983M01   \n",
       "0       :        :        :        :        :        :        :   \n",
       "1       :        :        :        :        :        :        :   \n",
       "2       :        :        :        :        :        :        :   \n",
       "3       :        :        :        :        :        :        :   \n",
       "4       :        :        :        :        :        :        :   \n",
       "\n",
       "[5 rows x 452 columns]"
      ]
     },
     "execution_count": 358,
     "metadata": {},
     "output_type": "execute_result"
    }
   ],
   "source": [
    "data_df = pd.read_csv(\"datasets/une_rt_m.tsv\", sep='\\t')\n",
    "data_df.head()"
   ]
  },
  {
   "cell_type": "code",
   "execution_count": 359,
   "metadata": {},
   "outputs": [
    {
     "data": {
      "text/plain": [
       "(2131, 452)"
      ]
     },
     "execution_count": 359,
     "metadata": {},
     "output_type": "execute_result"
    }
   ],
   "source": [
    "data_df.shape"
   ]
  },
  {
   "cell_type": "markdown",
   "metadata": {},
   "source": [
    "Read the contry codes data from csv file."
   ]
  },
  {
   "cell_type": "code",
   "execution_count": 360,
   "metadata": {},
   "outputs": [
    {
     "data": {
      "text/html": [
       "<div>\n",
       "<style scoped>\n",
       "    .dataframe tbody tr th:only-of-type {\n",
       "        vertical-align: middle;\n",
       "    }\n",
       "\n",
       "    .dataframe tbody tr th {\n",
       "        vertical-align: top;\n",
       "    }\n",
       "\n",
       "    .dataframe thead th {\n",
       "        text-align: right;\n",
       "    }\n",
       "</style>\n",
       "<table border=\"1\" class=\"dataframe\">\n",
       "  <thead>\n",
       "    <tr style=\"text-align: right;\">\n",
       "      <th></th>\n",
       "      <th>Country</th>\n",
       "      <th>C2</th>\n",
       "      <th>C3</th>\n",
       "      <th>Numeric</th>\n",
       "      <th>Iso</th>\n",
       "    </tr>\n",
       "  </thead>\n",
       "  <tbody>\n",
       "    <tr>\n",
       "      <th>0</th>\n",
       "      <td>Zimbabwe</td>\n",
       "      <td>ZW</td>\n",
       "      <td>ZWE</td>\n",
       "      <td>716</td>\n",
       "      <td>ISO 3166-2:ZW</td>\n",
       "    </tr>\n",
       "    <tr>\n",
       "      <th>1</th>\n",
       "      <td>Zambia</td>\n",
       "      <td>ZM</td>\n",
       "      <td>ZMB</td>\n",
       "      <td>894</td>\n",
       "      <td>ISO 3166-2:ZM</td>\n",
       "    </tr>\n",
       "    <tr>\n",
       "      <th>2</th>\n",
       "      <td>Yemen</td>\n",
       "      <td>YE</td>\n",
       "      <td>YEM</td>\n",
       "      <td>887</td>\n",
       "      <td>ISO 3166-2:YE</td>\n",
       "    </tr>\n",
       "    <tr>\n",
       "      <th>3</th>\n",
       "      <td>Western Sahara</td>\n",
       "      <td>EH</td>\n",
       "      <td>ESH</td>\n",
       "      <td>732</td>\n",
       "      <td>ISO 3166-2:EH</td>\n",
       "    </tr>\n",
       "    <tr>\n",
       "      <th>4</th>\n",
       "      <td>Wallis and Futuna</td>\n",
       "      <td>WF</td>\n",
       "      <td>WLF</td>\n",
       "      <td>876</td>\n",
       "      <td>ISO 3166-2:WF</td>\n",
       "    </tr>\n",
       "  </tbody>\n",
       "</table>\n",
       "</div>"
      ],
      "text/plain": [
       "             Country  C2   C3  Numeric            Iso\n",
       "0           Zimbabwe  ZW  ZWE      716  ISO 3166-2:ZW\n",
       "1             Zambia  ZM  ZMB      894  ISO 3166-2:ZM\n",
       "2              Yemen  YE  YEM      887  ISO 3166-2:YE\n",
       "3     Western Sahara  EH  ESH      732  ISO 3166-2:EH\n",
       "4  Wallis and Futuna  WF  WLF      876  ISO 3166-2:WF"
      ]
     },
     "execution_count": 360,
     "metadata": {},
     "output_type": "execute_result"
    }
   ],
   "source": [
    "country_codes_df = pd.read_csv(\"datasets/wikipedia-iso-country-codes.csv\")\n",
    "country_codes_df.columns = ['Country', 'C2', 'C3', 'Numeric', 'Iso']\n",
    "country_codes_df.head()"
   ]
  },
  {
   "cell_type": "markdown",
   "metadata": {},
   "source": [
    "Categorize the data in several dimensions, including country, age, unit, sex and s_adj."
   ]
  },
  {
   "cell_type": "code",
   "execution_count": 361,
   "metadata": {},
   "outputs": [
    {
     "data": {
      "text/html": [
       "<div>\n",
       "<style scoped>\n",
       "    .dataframe tbody tr th:only-of-type {\n",
       "        vertical-align: middle;\n",
       "    }\n",
       "\n",
       "    .dataframe tbody tr th {\n",
       "        vertical-align: top;\n",
       "    }\n",
       "\n",
       "    .dataframe thead th {\n",
       "        text-align: right;\n",
       "    }\n",
       "</style>\n",
       "<table border=\"1\" class=\"dataframe\">\n",
       "  <thead>\n",
       "    <tr style=\"text-align: right;\">\n",
       "      <th></th>\n",
       "      <th>s_adj,age,unit,sex,geo\\time</th>\n",
       "      <th>2020M07</th>\n",
       "      <th>2020M06</th>\n",
       "      <th>2020M05</th>\n",
       "      <th>2020M04</th>\n",
       "      <th>2020M03</th>\n",
       "      <th>2020M02</th>\n",
       "      <th>2020M01</th>\n",
       "      <th>2019M12</th>\n",
       "      <th>2019M11</th>\n",
       "      <th>...</th>\n",
       "      <th>1983M05</th>\n",
       "      <th>1983M04</th>\n",
       "      <th>1983M03</th>\n",
       "      <th>1983M02</th>\n",
       "      <th>1983M01</th>\n",
       "      <th>C2</th>\n",
       "      <th>age</th>\n",
       "      <th>unit</th>\n",
       "      <th>sex</th>\n",
       "      <th>s_adj</th>\n",
       "    </tr>\n",
       "  </thead>\n",
       "  <tbody>\n",
       "    <tr>\n",
       "      <th>0</th>\n",
       "      <td>NSA,TOTAL,PC_ACT,F,AT</td>\n",
       "      <td>6.0</td>\n",
       "      <td>6.2</td>\n",
       "      <td>5.2</td>\n",
       "      <td>4.9</td>\n",
       "      <td>4.7</td>\n",
       "      <td>4.1</td>\n",
       "      <td>4.4</td>\n",
       "      <td>4.0</td>\n",
       "      <td>3.9</td>\n",
       "      <td>...</td>\n",
       "      <td>:</td>\n",
       "      <td>:</td>\n",
       "      <td>:</td>\n",
       "      <td>:</td>\n",
       "      <td>:</td>\n",
       "      <td>AT</td>\n",
       "      <td>TOTAL</td>\n",
       "      <td>PC_ACT</td>\n",
       "      <td>F</td>\n",
       "      <td>NSA</td>\n",
       "    </tr>\n",
       "    <tr>\n",
       "      <th>1</th>\n",
       "      <td>NSA,TOTAL,PC_ACT,F,BE</td>\n",
       "      <td>5.4</td>\n",
       "      <td>5.0</td>\n",
       "      <td>5.0</td>\n",
       "      <td>5.2</td>\n",
       "      <td>5.0</td>\n",
       "      <td>4.9</td>\n",
       "      <td>4.8</td>\n",
       "      <td>4.6</td>\n",
       "      <td>4.5</td>\n",
       "      <td>...</td>\n",
       "      <td>:</td>\n",
       "      <td>:</td>\n",
       "      <td>:</td>\n",
       "      <td>:</td>\n",
       "      <td>:</td>\n",
       "      <td>BE</td>\n",
       "      <td>TOTAL</td>\n",
       "      <td>PC_ACT</td>\n",
       "      <td>F</td>\n",
       "      <td>NSA</td>\n",
       "    </tr>\n",
       "    <tr>\n",
       "      <th>2</th>\n",
       "      <td>NSA,TOTAL,PC_ACT,F,BG</td>\n",
       "      <td>3.9</td>\n",
       "      <td>3.9</td>\n",
       "      <td>4.2</td>\n",
       "      <td>4.7</td>\n",
       "      <td>4.1</td>\n",
       "      <td>4.2</td>\n",
       "      <td>4.3</td>\n",
       "      <td>3.9</td>\n",
       "      <td>3.8</td>\n",
       "      <td>...</td>\n",
       "      <td>:</td>\n",
       "      <td>:</td>\n",
       "      <td>:</td>\n",
       "      <td>:</td>\n",
       "      <td>:</td>\n",
       "      <td>BG</td>\n",
       "      <td>TOTAL</td>\n",
       "      <td>PC_ACT</td>\n",
       "      <td>F</td>\n",
       "      <td>NSA</td>\n",
       "    </tr>\n",
       "    <tr>\n",
       "      <th>3</th>\n",
       "      <td>NSA,TOTAL,PC_ACT,F,CH</td>\n",
       "      <td>:</td>\n",
       "      <td>4.4</td>\n",
       "      <td>4.3</td>\n",
       "      <td>4.4</td>\n",
       "      <td>4.6</td>\n",
       "      <td>4.6</td>\n",
       "      <td>4.5</td>\n",
       "      <td>4.1</td>\n",
       "      <td>4.0</td>\n",
       "      <td>...</td>\n",
       "      <td>:</td>\n",
       "      <td>:</td>\n",
       "      <td>:</td>\n",
       "      <td>:</td>\n",
       "      <td>:</td>\n",
       "      <td>CH</td>\n",
       "      <td>TOTAL</td>\n",
       "      <td>PC_ACT</td>\n",
       "      <td>F</td>\n",
       "      <td>NSA</td>\n",
       "    </tr>\n",
       "    <tr>\n",
       "      <th>4</th>\n",
       "      <td>NSA,TOTAL,PC_ACT,F,CY</td>\n",
       "      <td>7.2</td>\n",
       "      <td>6.6</td>\n",
       "      <td>6.4</td>\n",
       "      <td>6.8</td>\n",
       "      <td>7.1</td>\n",
       "      <td>7.5</td>\n",
       "      <td>7.9</td>\n",
       "      <td>7.5</td>\n",
       "      <td>7.7</td>\n",
       "      <td>...</td>\n",
       "      <td>:</td>\n",
       "      <td>:</td>\n",
       "      <td>:</td>\n",
       "      <td>:</td>\n",
       "      <td>:</td>\n",
       "      <td>CY</td>\n",
       "      <td>TOTAL</td>\n",
       "      <td>PC_ACT</td>\n",
       "      <td>F</td>\n",
       "      <td>NSA</td>\n",
       "    </tr>\n",
       "  </tbody>\n",
       "</table>\n",
       "<p>5 rows × 457 columns</p>\n",
       "</div>"
      ],
      "text/plain": [
       "  s_adj,age,unit,sex,geo\\time 2020M07  2020M06  2020M05  2020M04  2020M03   \\\n",
       "0       NSA,TOTAL,PC_ACT,F,AT     6.0      6.2      5.2      4.9      4.7    \n",
       "1       NSA,TOTAL,PC_ACT,F,BE     5.4      5.0      5.0      5.2      5.0    \n",
       "2       NSA,TOTAL,PC_ACT,F,BG     3.9      3.9      4.2      4.7      4.1    \n",
       "3       NSA,TOTAL,PC_ACT,F,CH       :      4.4      4.3      4.4      4.6    \n",
       "4       NSA,TOTAL,PC_ACT,F,CY     7.2      6.6      6.4      6.8      7.1    \n",
       "\n",
       "  2020M02  2020M01  2019M12  2019M11   ... 1983M05  1983M04  1983M03   \\\n",
       "0     4.1      4.4      4.0      3.9   ...       :        :        :    \n",
       "1     4.9      4.8      4.6      4.5   ...       :        :        :    \n",
       "2     4.2      4.3      3.9      3.8   ...       :        :        :    \n",
       "3     4.6      4.5      4.1      4.0   ...       :        :        :    \n",
       "4     7.5      7.9      7.5      7.7   ...       :        :        :    \n",
       "\n",
       "  1983M02  1983M01   C2    age    unit sex s_adj  \n",
       "0       :        :   AT  TOTAL  PC_ACT   F   NSA  \n",
       "1       :        :   BE  TOTAL  PC_ACT   F   NSA  \n",
       "2       :        :   BG  TOTAL  PC_ACT   F   NSA  \n",
       "3       :        :   CH  TOTAL  PC_ACT   F   NSA  \n",
       "4       :        :   CY  TOTAL  PC_ACT   F   NSA  \n",
       "\n",
       "[5 rows x 457 columns]"
      ]
     },
     "execution_count": 361,
     "metadata": {},
     "output_type": "execute_result"
    }
   ],
   "source": [
    "        \n",
    "data_df['C2'] = data_df['s_adj,age,unit,sex,geo\\\\time'].apply(lambda x: x.split(\",\")[-1])\n",
    "data_df['age'] = data_df['s_adj,age,unit,sex,geo\\\\time'].apply(lambda x: x.split(\",\")[1])\n",
    "data_df['unit'] = data_df['s_adj,age,unit,sex,geo\\\\time'].apply(lambda x: x.split(\",\")[2])\n",
    "data_df['sex'] = data_df['s_adj,age,unit,sex,geo\\\\time'].apply(lambda x: x.split(\",\")[3])\n",
    "data_df['s_adj'] = data_df['s_adj,age,unit,sex,geo\\\\time'].apply(lambda x: x.split(\",\")[0])\n",
    "\n",
    "data_df.head()"
   ]
  },
  {
   "cell_type": "markdown",
   "metadata": {},
   "source": [
    "Let's see the data."
   ]
  },
  {
   "cell_type": "code",
   "execution_count": 362,
   "metadata": {},
   "outputs": [
    {
     "name": "stdout",
     "output_type": "stream",
     "text": [
      "countries:\n",
      "['AT', 'BE', 'BG', 'CH', 'CY', 'CZ', 'DE', 'DK', 'EA', 'EA18', 'EA19', 'EE', 'EL', 'ES', 'EU25', 'EU27_2007', 'EU27_2020', 'EU28', 'FI', 'FR', 'HR', 'HU', 'IE', 'IS', 'IT', 'JP', 'LT', 'LU', 'LV', 'MT', 'NL', 'NO', 'PL', 'PT', 'RO', 'SE', 'SI', 'SK', 'UK', 'US', 'TR']\n"
     ]
    }
   ],
   "source": [
    "print(f\"countries:\\n{list(data_df.C2.unique())}\")"
   ]
  },
  {
   "cell_type": "code",
   "execution_count": 363,
   "metadata": {},
   "outputs": [
    {
     "name": "stdout",
     "output_type": "stream",
     "text": [
      "sex:\n",
      "['F', 'M', 'T']\n"
     ]
    }
   ],
   "source": [
    "print(f\"sex:\\n{list(data_df.sex.unique())}\")"
   ]
  },
  {
   "cell_type": "code",
   "execution_count": 364,
   "metadata": {},
   "outputs": [
    {
     "name": "stdout",
     "output_type": "stream",
     "text": [
      "age intervals:\n",
      "['TOTAL', 'Y25-74', 'Y_LT25']\n"
     ]
    }
   ],
   "source": [
    "print(f\"age intervals:\\n{list(data_df.age.unique())}\")"
   ]
  },
  {
   "cell_type": "code",
   "execution_count": 365,
   "metadata": {},
   "outputs": [
    {
     "name": "stdout",
     "output_type": "stream",
     "text": [
      "unit:\n",
      "['PC_ACT', 'THS_PER']\n"
     ]
    }
   ],
   "source": [
    "print(f\"unit:\\n{list(data_df.unit.unique())}\")"
   ]
  },
  {
   "cell_type": "code",
   "execution_count": 366,
   "metadata": {},
   "outputs": [
    {
     "name": "stdout",
     "output_type": "stream",
     "text": [
      "s_adj:\n",
      "['NSA', 'SA', 'TC']\n"
     ]
    }
   ],
   "source": [
    "print(f\"s_adj:\\n{list(data_df.s_adj.unique())}\")"
   ]
  },
  {
   "cell_type": "markdown",
   "metadata": {},
   "source": [
    "We select only a part of columns for further analysis.\n",
    "More specificaly, we are selecting country code (2 letters), age, unit, sex, s_adj and months from Jan 2010 to June 2020."
   ]
  },
  {
   "cell_type": "code",
   "execution_count": 367,
   "metadata": {},
   "outputs": [],
   "source": [
    "selected_cols = ['C2','age','unit','sex', 's_adj', \n",
    "                '2020M07 ', '2020M06 ', '2020M05 ', '2020M04 ','2020M03 ','2020M02 ','2020M01 ',\n",
    "                '2019M12 ','2019M11 ','2019M10 ','2019M09 ','2019M08 ','2019M07 ',\n",
    "                '2019M06 ','2019M05 ','2019M04 ','2019M03 ','2019M02 ','2019M01 ',\n",
    "                '2018M12 ','2018M11 ','2018M10 ','2018M09 ','2018M08 ','2018M07 ',\n",
    "                '2018M06 ','2018M05 ','2018M04 ','2018M03 ','2018M02 ','2018M01 ',\n",
    "                '2017M12 ','2017M11 ','2017M10 ','2017M09 ','2017M08 ','2017M07 ',\n",
    "                '2017M06 ','2017M05 ','2017M04 ','2017M03 ','2017M02 ','2017M01 ',\n",
    "                '2016M12 ','2016M11 ','2016M10 ','2016M09 ','2016M08 ','2016M07 ',\n",
    "                '2016M06 ','2016M05 ','2016M04 ','2016M03 ','2016M02 ','2016M01 ',\n",
    "                '2015M12 ','2015M11 ','2015M10 ','2015M09 ','2015M08 ','2015M07 ',\n",
    "                '2015M06 ','2015M05 ','2015M04 ','2015M03 ','2015M02 ','2015M01 ',\n",
    "                '2014M12 ','2014M11 ','2014M10 ','2014M09 ','2014M08 ','2014M07 ',\n",
    "                '2014M06 ','2014M05 ','2014M04 ','2014M03 ','2014M02 ','2014M01 ',\n",
    "                '2013M12 ','2013M11 ','2013M10 ','2013M09 ','2013M08 ','2013M07 ',\n",
    "                '2013M06 ','2013M05 ','2013M04 ','2013M03 ','2013M02 ','2013M01 ',\n",
    "                '2012M12 ','2012M11 ','2012M10 ','2012M09 ','2012M08 ','2012M07 ',\n",
    "                '2012M06 ','2012M05 ','2012M04 ','2012M03 ','2012M02 ','2012M01 ',\n",
    "                '2011M12 ','2011M11 ','2011M10 ','2011M09 ','2011M08 ','2011M07 ',\n",
    "                '2011M06 ','2011M05 ','2011M04 ','2011M03 ','2011M02 ','2011M01 ',\n",
    "                '2010M12 ','2010M11 ','2010M10 ','2010M09 ','2010M08 ','2010M07 ',\n",
    "                '2010M06 ','2010M05 ','2010M04 ','2010M03 ','2010M02 ','2010M01 ',]\n",
    "data_sel_df = data_df[selected_cols]"
   ]
  },
  {
   "cell_type": "markdown",
   "metadata": {},
   "source": [
    "Merge the unemployment data with the country codes data."
   ]
  },
  {
   "cell_type": "code",
   "execution_count": 368,
   "metadata": {},
   "outputs": [
    {
     "data": {
      "text/html": [
       "<div>\n",
       "<style scoped>\n",
       "    .dataframe tbody tr th:only-of-type {\n",
       "        vertical-align: middle;\n",
       "    }\n",
       "\n",
       "    .dataframe tbody tr th {\n",
       "        vertical-align: top;\n",
       "    }\n",
       "\n",
       "    .dataframe thead th {\n",
       "        text-align: right;\n",
       "    }\n",
       "</style>\n",
       "<table border=\"1\" class=\"dataframe\">\n",
       "  <thead>\n",
       "    <tr style=\"text-align: right;\">\n",
       "      <th></th>\n",
       "      <th>C2</th>\n",
       "      <th>age</th>\n",
       "      <th>unit</th>\n",
       "      <th>sex</th>\n",
       "      <th>s_adj</th>\n",
       "      <th>2020M07</th>\n",
       "      <th>2020M06</th>\n",
       "      <th>2020M05</th>\n",
       "      <th>2020M04</th>\n",
       "      <th>2020M03</th>\n",
       "      <th>...</th>\n",
       "      <th>2010M06</th>\n",
       "      <th>2010M05</th>\n",
       "      <th>2010M04</th>\n",
       "      <th>2010M03</th>\n",
       "      <th>2010M02</th>\n",
       "      <th>2010M01</th>\n",
       "      <th>Country</th>\n",
       "      <th>C3</th>\n",
       "      <th>Numeric</th>\n",
       "      <th>Iso</th>\n",
       "    </tr>\n",
       "  </thead>\n",
       "  <tbody>\n",
       "    <tr>\n",
       "      <th>0</th>\n",
       "      <td>AT</td>\n",
       "      <td>TOTAL</td>\n",
       "      <td>PC_ACT</td>\n",
       "      <td>F</td>\n",
       "      <td>NSA</td>\n",
       "      <td>6.0</td>\n",
       "      <td>6.2</td>\n",
       "      <td>5.2</td>\n",
       "      <td>4.9</td>\n",
       "      <td>4.7</td>\n",
       "      <td>...</td>\n",
       "      <td>4.5</td>\n",
       "      <td>4.5</td>\n",
       "      <td>5.0</td>\n",
       "      <td>4.5</td>\n",
       "      <td>4.9</td>\n",
       "      <td>4.5</td>\n",
       "      <td>Austria</td>\n",
       "      <td>AUT</td>\n",
       "      <td>40</td>\n",
       "      <td>ISO 3166-2:AT</td>\n",
       "    </tr>\n",
       "    <tr>\n",
       "      <th>1</th>\n",
       "      <td>AT</td>\n",
       "      <td>TOTAL</td>\n",
       "      <td>PC_ACT</td>\n",
       "      <td>M</td>\n",
       "      <td>NSA</td>\n",
       "      <td>5.5</td>\n",
       "      <td>6.2</td>\n",
       "      <td>6.1</td>\n",
       "      <td>5.2</td>\n",
       "      <td>5.0</td>\n",
       "      <td>...</td>\n",
       "      <td>5.0</td>\n",
       "      <td>4.9</td>\n",
       "      <td>5.5</td>\n",
       "      <td>6.2</td>\n",
       "      <td>6.0</td>\n",
       "      <td>5.2</td>\n",
       "      <td>Austria</td>\n",
       "      <td>AUT</td>\n",
       "      <td>40</td>\n",
       "      <td>ISO 3166-2:AT</td>\n",
       "    </tr>\n",
       "    <tr>\n",
       "      <th>2</th>\n",
       "      <td>AT</td>\n",
       "      <td>TOTAL</td>\n",
       "      <td>PC_ACT</td>\n",
       "      <td>T</td>\n",
       "      <td>NSA</td>\n",
       "      <td>5.7</td>\n",
       "      <td>6.2</td>\n",
       "      <td>5.7</td>\n",
       "      <td>5.1</td>\n",
       "      <td>4.9</td>\n",
       "      <td>...</td>\n",
       "      <td>4.7</td>\n",
       "      <td>4.8</td>\n",
       "      <td>5.2</td>\n",
       "      <td>5.4</td>\n",
       "      <td>5.5</td>\n",
       "      <td>4.9</td>\n",
       "      <td>Austria</td>\n",
       "      <td>AUT</td>\n",
       "      <td>40</td>\n",
       "      <td>ISO 3166-2:AT</td>\n",
       "    </tr>\n",
       "    <tr>\n",
       "      <th>3</th>\n",
       "      <td>AT</td>\n",
       "      <td>TOTAL</td>\n",
       "      <td>THS_PER</td>\n",
       "      <td>F</td>\n",
       "      <td>NSA</td>\n",
       "      <td>129</td>\n",
       "      <td>132</td>\n",
       "      <td>108</td>\n",
       "      <td>100</td>\n",
       "      <td>97</td>\n",
       "      <td>...</td>\n",
       "      <td>76</td>\n",
       "      <td>93</td>\n",
       "      <td>104</td>\n",
       "      <td>76</td>\n",
       "      <td>100</td>\n",
       "      <td>93</td>\n",
       "      <td>Austria</td>\n",
       "      <td>AUT</td>\n",
       "      <td>40</td>\n",
       "      <td>ISO 3166-2:AT</td>\n",
       "    </tr>\n",
       "    <tr>\n",
       "      <th>4</th>\n",
       "      <td>AT</td>\n",
       "      <td>TOTAL</td>\n",
       "      <td>THS_PER</td>\n",
       "      <td>M</td>\n",
       "      <td>NSA</td>\n",
       "      <td>134</td>\n",
       "      <td>149</td>\n",
       "      <td>144</td>\n",
       "      <td>121</td>\n",
       "      <td>118</td>\n",
       "      <td>...</td>\n",
       "      <td>95</td>\n",
       "      <td>118</td>\n",
       "      <td>133</td>\n",
       "      <td>120</td>\n",
       "      <td>142</td>\n",
       "      <td>122</td>\n",
       "      <td>Austria</td>\n",
       "      <td>AUT</td>\n",
       "      <td>40</td>\n",
       "      <td>ISO 3166-2:AT</td>\n",
       "    </tr>\n",
       "  </tbody>\n",
       "</table>\n",
       "<p>5 rows × 136 columns</p>\n",
       "</div>"
      ],
      "text/plain": [
       "   C2    age     unit sex s_adj 2020M07  2020M06  2020M05  2020M04  2020M03   \\\n",
       "0  AT  TOTAL   PC_ACT   F   NSA     6.0      6.2      5.2      4.9      4.7    \n",
       "1  AT  TOTAL   PC_ACT   M   NSA     5.5      6.2      6.1      5.2      5.0    \n",
       "2  AT  TOTAL   PC_ACT   T   NSA     5.7      6.2      5.7      5.1      4.9    \n",
       "3  AT  TOTAL  THS_PER   F   NSA     129      132      108      100       97    \n",
       "4  AT  TOTAL  THS_PER   M   NSA     134      149      144      121      118    \n",
       "\n",
       "   ... 2010M06  2010M05  2010M04  2010M03  2010M02  2010M01   Country   C3  \\\n",
       "0  ...     4.5      4.5      5.0      4.5      4.9      4.5   Austria  AUT   \n",
       "1  ...     5.0      4.9      5.5      6.2      6.0      5.2   Austria  AUT   \n",
       "2  ...     4.7      4.8      5.2      5.4      5.5      4.9   Austria  AUT   \n",
       "3  ...      76       93      104       76      100       93   Austria  AUT   \n",
       "4  ...      95      118      133      120      142      122   Austria  AUT   \n",
       "\n",
       "  Numeric            Iso  \n",
       "0      40  ISO 3166-2:AT  \n",
       "1      40  ISO 3166-2:AT  \n",
       "2      40  ISO 3166-2:AT  \n",
       "3      40  ISO 3166-2:AT  \n",
       "4      40  ISO 3166-2:AT  \n",
       "\n",
       "[5 rows x 136 columns]"
      ]
     },
     "execution_count": 368,
     "metadata": {},
     "output_type": "execute_result"
    }
   ],
   "source": [
    "data_sel_df = data_sel_df.merge(country_codes_df, on=\"C2\")\n",
    "data_sel_df.head()"
   ]
  },
  {
   "cell_type": "markdown",
   "metadata": {},
   "source": [
    "Data transforming."
   ]
  },
  {
   "cell_type": "markdown",
   "metadata": {},
   "source": [
    "Use melt method to pivot time series columns. For each value of time series we introduce additional rows."
   ]
  },
  {
   "cell_type": "code",
   "execution_count": 369,
   "metadata": {},
   "outputs": [
    {
     "data": {
      "text/html": [
       "<div>\n",
       "<style scoped>\n",
       "    .dataframe tbody tr th:only-of-type {\n",
       "        vertical-align: middle;\n",
       "    }\n",
       "\n",
       "    .dataframe tbody tr th {\n",
       "        vertical-align: top;\n",
       "    }\n",
       "\n",
       "    .dataframe thead th {\n",
       "        text-align: right;\n",
       "    }\n",
       "</style>\n",
       "<table border=\"1\" class=\"dataframe\">\n",
       "  <thead>\n",
       "    <tr style=\"text-align: right;\">\n",
       "      <th></th>\n",
       "      <th>Country</th>\n",
       "      <th>age</th>\n",
       "      <th>unit</th>\n",
       "      <th>sex</th>\n",
       "      <th>s_adj</th>\n",
       "      <th>C2</th>\n",
       "      <th>C3</th>\n",
       "      <th>Numeric</th>\n",
       "      <th>Iso</th>\n",
       "      <th>Date</th>\n",
       "      <th>Unemployment_Rate</th>\n",
       "    </tr>\n",
       "  </thead>\n",
       "  <tbody>\n",
       "    <tr>\n",
       "      <th>0</th>\n",
       "      <td>Austria</td>\n",
       "      <td>TOTAL</td>\n",
       "      <td>PC_ACT</td>\n",
       "      <td>F</td>\n",
       "      <td>NSA</td>\n",
       "      <td>AT</td>\n",
       "      <td>AUT</td>\n",
       "      <td>40</td>\n",
       "      <td>ISO 3166-2:AT</td>\n",
       "      <td>2020M07</td>\n",
       "      <td>6.0</td>\n",
       "    </tr>\n",
       "    <tr>\n",
       "      <th>1</th>\n",
       "      <td>Austria</td>\n",
       "      <td>TOTAL</td>\n",
       "      <td>PC_ACT</td>\n",
       "      <td>M</td>\n",
       "      <td>NSA</td>\n",
       "      <td>AT</td>\n",
       "      <td>AUT</td>\n",
       "      <td>40</td>\n",
       "      <td>ISO 3166-2:AT</td>\n",
       "      <td>2020M07</td>\n",
       "      <td>5.5</td>\n",
       "    </tr>\n",
       "    <tr>\n",
       "      <th>2</th>\n",
       "      <td>Austria</td>\n",
       "      <td>TOTAL</td>\n",
       "      <td>PC_ACT</td>\n",
       "      <td>T</td>\n",
       "      <td>NSA</td>\n",
       "      <td>AT</td>\n",
       "      <td>AUT</td>\n",
       "      <td>40</td>\n",
       "      <td>ISO 3166-2:AT</td>\n",
       "      <td>2020M07</td>\n",
       "      <td>5.7</td>\n",
       "    </tr>\n",
       "    <tr>\n",
       "      <th>3</th>\n",
       "      <td>Austria</td>\n",
       "      <td>TOTAL</td>\n",
       "      <td>THS_PER</td>\n",
       "      <td>F</td>\n",
       "      <td>NSA</td>\n",
       "      <td>AT</td>\n",
       "      <td>AUT</td>\n",
       "      <td>40</td>\n",
       "      <td>ISO 3166-2:AT</td>\n",
       "      <td>2020M07</td>\n",
       "      <td>129</td>\n",
       "    </tr>\n",
       "    <tr>\n",
       "      <th>4</th>\n",
       "      <td>Austria</td>\n",
       "      <td>TOTAL</td>\n",
       "      <td>THS_PER</td>\n",
       "      <td>M</td>\n",
       "      <td>NSA</td>\n",
       "      <td>AT</td>\n",
       "      <td>AUT</td>\n",
       "      <td>40</td>\n",
       "      <td>ISO 3166-2:AT</td>\n",
       "      <td>2020M07</td>\n",
       "      <td>134</td>\n",
       "    </tr>\n",
       "  </tbody>\n",
       "</table>\n",
       "</div>"
      ],
      "text/plain": [
       "   Country    age     unit sex s_adj  C2   C3  Numeric            Iso  \\\n",
       "0  Austria  TOTAL   PC_ACT   F   NSA  AT  AUT       40  ISO 3166-2:AT   \n",
       "1  Austria  TOTAL   PC_ACT   M   NSA  AT  AUT       40  ISO 3166-2:AT   \n",
       "2  Austria  TOTAL   PC_ACT   T   NSA  AT  AUT       40  ISO 3166-2:AT   \n",
       "3  Austria  TOTAL  THS_PER   F   NSA  AT  AUT       40  ISO 3166-2:AT   \n",
       "4  Austria  TOTAL  THS_PER   M   NSA  AT  AUT       40  ISO 3166-2:AT   \n",
       "\n",
       "       Date Unemployment_Rate  \n",
       "0  2020M07               6.0   \n",
       "1  2020M07               5.5   \n",
       "2  2020M07               5.7   \n",
       "3  2020M07               129   \n",
       "4  2020M07               134   "
      ]
     },
     "execution_count": 369,
     "metadata": {},
     "output_type": "execute_result"
    }
   ],
   "source": [
    "data_tr_df = data_sel_df.melt(id_vars=[\"Country\", \"age\", \"unit\", \"sex\", \"s_adj\", \"C2\", \"C3\", \"Numeric\", \"Iso\"], \n",
    "        var_name=\"Date\", \n",
    "        value_name=\"Unemployment_Rate\")\n",
    "\n",
    "data_tr_df.head()"
   ]
  },
  {
   "cell_type": "markdown",
   "metadata": {},
   "source": [
    "Remove C3 column since it is not needed for analysis."
   ]
  },
  {
   "cell_type": "code",
   "execution_count": 370,
   "metadata": {},
   "outputs": [
    {
     "data": {
      "text/html": [
       "<div>\n",
       "<style scoped>\n",
       "    .dataframe tbody tr th:only-of-type {\n",
       "        vertical-align: middle;\n",
       "    }\n",
       "\n",
       "    .dataframe tbody tr th {\n",
       "        vertical-align: top;\n",
       "    }\n",
       "\n",
       "    .dataframe thead th {\n",
       "        text-align: right;\n",
       "    }\n",
       "</style>\n",
       "<table border=\"1\" class=\"dataframe\">\n",
       "  <thead>\n",
       "    <tr style=\"text-align: right;\">\n",
       "      <th></th>\n",
       "      <th>Country</th>\n",
       "      <th>age</th>\n",
       "      <th>unit</th>\n",
       "      <th>sex</th>\n",
       "      <th>s_adj</th>\n",
       "      <th>C2</th>\n",
       "      <th>Numeric</th>\n",
       "      <th>Iso</th>\n",
       "      <th>Date</th>\n",
       "      <th>Unemployment_Rate</th>\n",
       "    </tr>\n",
       "  </thead>\n",
       "  <tbody>\n",
       "    <tr>\n",
       "      <th>0</th>\n",
       "      <td>Austria</td>\n",
       "      <td>TOTAL</td>\n",
       "      <td>PC_ACT</td>\n",
       "      <td>F</td>\n",
       "      <td>NSA</td>\n",
       "      <td>AT</td>\n",
       "      <td>40</td>\n",
       "      <td>ISO 3166-2:AT</td>\n",
       "      <td>2020M07</td>\n",
       "      <td>6.0</td>\n",
       "    </tr>\n",
       "    <tr>\n",
       "      <th>1</th>\n",
       "      <td>Austria</td>\n",
       "      <td>TOTAL</td>\n",
       "      <td>PC_ACT</td>\n",
       "      <td>M</td>\n",
       "      <td>NSA</td>\n",
       "      <td>AT</td>\n",
       "      <td>40</td>\n",
       "      <td>ISO 3166-2:AT</td>\n",
       "      <td>2020M07</td>\n",
       "      <td>5.5</td>\n",
       "    </tr>\n",
       "    <tr>\n",
       "      <th>2</th>\n",
       "      <td>Austria</td>\n",
       "      <td>TOTAL</td>\n",
       "      <td>PC_ACT</td>\n",
       "      <td>T</td>\n",
       "      <td>NSA</td>\n",
       "      <td>AT</td>\n",
       "      <td>40</td>\n",
       "      <td>ISO 3166-2:AT</td>\n",
       "      <td>2020M07</td>\n",
       "      <td>5.7</td>\n",
       "    </tr>\n",
       "    <tr>\n",
       "      <th>3</th>\n",
       "      <td>Austria</td>\n",
       "      <td>TOTAL</td>\n",
       "      <td>THS_PER</td>\n",
       "      <td>F</td>\n",
       "      <td>NSA</td>\n",
       "      <td>AT</td>\n",
       "      <td>40</td>\n",
       "      <td>ISO 3166-2:AT</td>\n",
       "      <td>2020M07</td>\n",
       "      <td>129</td>\n",
       "    </tr>\n",
       "    <tr>\n",
       "      <th>4</th>\n",
       "      <td>Austria</td>\n",
       "      <td>TOTAL</td>\n",
       "      <td>THS_PER</td>\n",
       "      <td>M</td>\n",
       "      <td>NSA</td>\n",
       "      <td>AT</td>\n",
       "      <td>40</td>\n",
       "      <td>ISO 3166-2:AT</td>\n",
       "      <td>2020M07</td>\n",
       "      <td>134</td>\n",
       "    </tr>\n",
       "  </tbody>\n",
       "</table>\n",
       "</div>"
      ],
      "text/plain": [
       "   Country    age     unit sex s_adj  C2  Numeric            Iso      Date  \\\n",
       "0  Austria  TOTAL   PC_ACT   F   NSA  AT       40  ISO 3166-2:AT  2020M07    \n",
       "1  Austria  TOTAL   PC_ACT   M   NSA  AT       40  ISO 3166-2:AT  2020M07    \n",
       "2  Austria  TOTAL   PC_ACT   T   NSA  AT       40  ISO 3166-2:AT  2020M07    \n",
       "3  Austria  TOTAL  THS_PER   F   NSA  AT       40  ISO 3166-2:AT  2020M07    \n",
       "4  Austria  TOTAL  THS_PER   M   NSA  AT       40  ISO 3166-2:AT  2020M07    \n",
       "\n",
       "  Unemployment_Rate  \n",
       "0              6.0   \n",
       "1              5.5   \n",
       "2              5.7   \n",
       "3              129   \n",
       "4              134   "
      ]
     },
     "execution_count": 370,
     "metadata": {},
     "output_type": "execute_result"
    }
   ],
   "source": [
    "data_tr_df = data_tr_df.drop('C3', axis=1)\n",
    "data_tr_df.head()"
   ]
  },
  {
   "cell_type": "markdown",
   "metadata": {},
   "source": [
    "The shape of data before and after melt."
   ]
  },
  {
   "cell_type": "code",
   "execution_count": 371,
   "metadata": {},
   "outputs": [
    {
     "name": "stdout",
     "output_type": "stream",
     "text": [
      "Data shape before melt (1645, 136)\n",
      "Data shape after melt (208915, 10)\n"
     ]
    }
   ],
   "source": [
    "print(f\"Data shape before melt {data_sel_df.shape}\")\n",
    "print(f\"Data shape after melt {data_tr_df.shape}\")"
   ]
  },
  {
   "cell_type": "markdown",
   "metadata": {},
   "source": [
    "Cleaning the data. We remove the non-digit data and trim the spaces."
   ]
  },
  {
   "cell_type": "markdown",
   "metadata": {},
   "source": [
    "In this dataset the null values are presented as \": \", so we check how many null values we have in this specific column."
   ]
  },
  {
   "cell_type": "code",
   "execution_count": 372,
   "metadata": {},
   "outputs": [
    {
     "name": "stdout",
     "output_type": "stream",
     "text": [
      "Number of ':' values in 'Unemployment_Rate': 2903\n"
     ]
    }
   ],
   "source": [
    "count = (data_tr_df['Unemployment_Rate'] == ': ').sum()\n",
    "print(f\"Number of ':' values in 'Unemployment_Rate': {count}\")"
   ]
  },
  {
   "cell_type": "markdown",
   "metadata": {},
   "source": [
    "We have a small amount of data that are null we choose to delete those data and keep the integrity, since it will not effect the analysis result."
   ]
  },
  {
   "cell_type": "code",
   "execution_count": 373,
   "metadata": {},
   "outputs": [],
   "source": [
    "data_tr_df['Unemployment_Rate'] = data_tr_df['Unemployment_Rate'].apply(lambda x: re.sub(r\"[a-zA-Z: ]\", \"\", x))\n",
    "data_tr_df['Unemployment_Rate'] = data_tr_df['Unemployment_Rate'].apply(lambda x: x.replace(\" \",\"\"))\n",
    "\n",
    "data_tr_df = data_tr_df.loc[~(data_tr_df.Unemployment_Rate==\"\")]\n",
    "\n",
    "data_tr_df['Unemployment_Rate'] = data_tr_df['Unemployment_Rate'].apply(lambda x: float(x))"
   ]
  },
  {
   "cell_type": "code",
   "execution_count": 374,
   "metadata": {},
   "outputs": [
    {
     "name": "stdout",
     "output_type": "stream",
     "text": [
      "distinct values: 5304\n",
      "samples values: [6.0000e+00 5.5000e+00 5.7000e+00 ... 8.9410e+03 1.4987e+04 1.1059e+04]\n"
     ]
    }
   ],
   "source": [
    "print(f\"distinct values: {len(list(data_tr_df['Unemployment_Rate'].unique()))}\")\n",
    "print(f\"samples values: {data_tr_df['Unemployment_Rate'].unique()}\")"
   ]
  },
  {
   "cell_type": "markdown",
   "metadata": {},
   "source": [
    "Check for any null values"
   ]
  },
  {
   "cell_type": "code",
   "execution_count": 375,
   "metadata": {},
   "outputs": [
    {
     "name": "stdout",
     "output_type": "stream",
     "text": [
      "Country              0\n",
      "age                  0\n",
      "unit                 0\n",
      "sex                  0\n",
      "s_adj                0\n",
      "C2                   0\n",
      "Numeric              0\n",
      "Iso                  0\n",
      "Date                 0\n",
      "Unemployment_Rate    0\n",
      "dtype: int64\n"
     ]
    }
   ],
   "source": [
    "print(data_tr_df.isnull().sum())"
   ]
  },
  {
   "cell_type": "markdown",
   "metadata": {},
   "source": [
    "Check for duplicated data"
   ]
  },
  {
   "cell_type": "code",
   "execution_count": 376,
   "metadata": {},
   "outputs": [
    {
     "name": "stdout",
     "output_type": "stream",
     "text": [
      "Duplicated data:  0\n"
     ]
    }
   ],
   "source": [
    "print('Duplicated data: ',data_tr_df.duplicated().sum())"
   ]
  },
  {
   "cell_type": "markdown",
   "metadata": {},
   "source": [
    "Transfrom 'Date' column format."
   ]
  },
  {
   "cell_type": "code",
   "execution_count": 377,
   "metadata": {},
   "outputs": [
    {
     "data": {
      "text/html": [
       "<div>\n",
       "<style scoped>\n",
       "    .dataframe tbody tr th:only-of-type {\n",
       "        vertical-align: middle;\n",
       "    }\n",
       "\n",
       "    .dataframe tbody tr th {\n",
       "        vertical-align: top;\n",
       "    }\n",
       "\n",
       "    .dataframe thead th {\n",
       "        text-align: right;\n",
       "    }\n",
       "</style>\n",
       "<table border=\"1\" class=\"dataframe\">\n",
       "  <thead>\n",
       "    <tr style=\"text-align: right;\">\n",
       "      <th></th>\n",
       "      <th>Country</th>\n",
       "      <th>age</th>\n",
       "      <th>unit</th>\n",
       "      <th>sex</th>\n",
       "      <th>s_adj</th>\n",
       "      <th>C2</th>\n",
       "      <th>Numeric</th>\n",
       "      <th>Iso</th>\n",
       "      <th>Unemployment_Rate</th>\n",
       "      <th>Month</th>\n",
       "      <th>Year</th>\n",
       "    </tr>\n",
       "  </thead>\n",
       "  <tbody>\n",
       "    <tr>\n",
       "      <th>0</th>\n",
       "      <td>Austria</td>\n",
       "      <td>TOTAL</td>\n",
       "      <td>PC_ACT</td>\n",
       "      <td>F</td>\n",
       "      <td>NSA</td>\n",
       "      <td>AT</td>\n",
       "      <td>40</td>\n",
       "      <td>ISO 3166-2:AT</td>\n",
       "      <td>6.0</td>\n",
       "      <td>July</td>\n",
       "      <td>2020</td>\n",
       "    </tr>\n",
       "    <tr>\n",
       "      <th>1</th>\n",
       "      <td>Austria</td>\n",
       "      <td>TOTAL</td>\n",
       "      <td>PC_ACT</td>\n",
       "      <td>M</td>\n",
       "      <td>NSA</td>\n",
       "      <td>AT</td>\n",
       "      <td>40</td>\n",
       "      <td>ISO 3166-2:AT</td>\n",
       "      <td>5.5</td>\n",
       "      <td>July</td>\n",
       "      <td>2020</td>\n",
       "    </tr>\n",
       "    <tr>\n",
       "      <th>2</th>\n",
       "      <td>Austria</td>\n",
       "      <td>TOTAL</td>\n",
       "      <td>PC_ACT</td>\n",
       "      <td>T</td>\n",
       "      <td>NSA</td>\n",
       "      <td>AT</td>\n",
       "      <td>40</td>\n",
       "      <td>ISO 3166-2:AT</td>\n",
       "      <td>5.7</td>\n",
       "      <td>July</td>\n",
       "      <td>2020</td>\n",
       "    </tr>\n",
       "    <tr>\n",
       "      <th>3</th>\n",
       "      <td>Austria</td>\n",
       "      <td>TOTAL</td>\n",
       "      <td>THS_PER</td>\n",
       "      <td>F</td>\n",
       "      <td>NSA</td>\n",
       "      <td>AT</td>\n",
       "      <td>40</td>\n",
       "      <td>ISO 3166-2:AT</td>\n",
       "      <td>129.0</td>\n",
       "      <td>July</td>\n",
       "      <td>2020</td>\n",
       "    </tr>\n",
       "    <tr>\n",
       "      <th>4</th>\n",
       "      <td>Austria</td>\n",
       "      <td>TOTAL</td>\n",
       "      <td>THS_PER</td>\n",
       "      <td>M</td>\n",
       "      <td>NSA</td>\n",
       "      <td>AT</td>\n",
       "      <td>40</td>\n",
       "      <td>ISO 3166-2:AT</td>\n",
       "      <td>134.0</td>\n",
       "      <td>July</td>\n",
       "      <td>2020</td>\n",
       "    </tr>\n",
       "  </tbody>\n",
       "</table>\n",
       "</div>"
      ],
      "text/plain": [
       "   Country    age     unit sex s_adj  C2  Numeric            Iso  \\\n",
       "0  Austria  TOTAL   PC_ACT   F   NSA  AT       40  ISO 3166-2:AT   \n",
       "1  Austria  TOTAL   PC_ACT   M   NSA  AT       40  ISO 3166-2:AT   \n",
       "2  Austria  TOTAL   PC_ACT   T   NSA  AT       40  ISO 3166-2:AT   \n",
       "3  Austria  TOTAL  THS_PER   F   NSA  AT       40  ISO 3166-2:AT   \n",
       "4  Austria  TOTAL  THS_PER   M   NSA  AT       40  ISO 3166-2:AT   \n",
       "\n",
       "   Unemployment_Rate Month  Year  \n",
       "0                6.0  July  2020  \n",
       "1                5.5  July  2020  \n",
       "2                5.7  July  2020  \n",
       "3              129.0  July  2020  \n",
       "4              134.0  July  2020  "
      ]
     },
     "execution_count": 377,
     "metadata": {},
     "output_type": "execute_result"
    }
   ],
   "source": [
    "data_tr_df['Date'] = pd.to_datetime(data_tr_df['Date'], format='%YM%m ', errors='coerce')\n",
    "\n",
    "data_tr_df['Month'] = data_tr_df['Date'].dt.strftime('%B')\n",
    "data_tr_df['Year'] = data_tr_df['Date'].dt.year\n",
    "\n",
    "data_tr_df = data_tr_df.drop('Date', axis=1)\n",
    "\n",
    "data_tr_df.head()"
   ]
  },
  {
   "cell_type": "markdown",
   "metadata": {},
   "source": [
    "Reorder and format column names."
   ]
  },
  {
   "cell_type": "code",
   "execution_count": 378,
   "metadata": {},
   "outputs": [
    {
     "data": {
      "text/html": [
       "<div>\n",
       "<style scoped>\n",
       "    .dataframe tbody tr th:only-of-type {\n",
       "        vertical-align: middle;\n",
       "    }\n",
       "\n",
       "    .dataframe tbody tr th {\n",
       "        vertical-align: top;\n",
       "    }\n",
       "\n",
       "    .dataframe thead th {\n",
       "        text-align: right;\n",
       "    }\n",
       "</style>\n",
       "<table border=\"1\" class=\"dataframe\">\n",
       "  <thead>\n",
       "    <tr style=\"text-align: right;\">\n",
       "      <th></th>\n",
       "      <th>COUNTRY</th>\n",
       "      <th>AGE</th>\n",
       "      <th>UNIT</th>\n",
       "      <th>SEX</th>\n",
       "      <th>C2</th>\n",
       "      <th>NUMERIC</th>\n",
       "      <th>ISO</th>\n",
       "      <th>MONTH</th>\n",
       "      <th>YEAR</th>\n",
       "      <th>UNEMPLOYMENT_RATE</th>\n",
       "    </tr>\n",
       "  </thead>\n",
       "  <tbody>\n",
       "    <tr>\n",
       "      <th>0</th>\n",
       "      <td>Austria</td>\n",
       "      <td>TOTAL</td>\n",
       "      <td>PC_ACT</td>\n",
       "      <td>F</td>\n",
       "      <td>AT</td>\n",
       "      <td>40</td>\n",
       "      <td>ISO 3166-2:AT</td>\n",
       "      <td>July</td>\n",
       "      <td>2020</td>\n",
       "      <td>6.0</td>\n",
       "    </tr>\n",
       "    <tr>\n",
       "      <th>1</th>\n",
       "      <td>Austria</td>\n",
       "      <td>TOTAL</td>\n",
       "      <td>PC_ACT</td>\n",
       "      <td>M</td>\n",
       "      <td>AT</td>\n",
       "      <td>40</td>\n",
       "      <td>ISO 3166-2:AT</td>\n",
       "      <td>July</td>\n",
       "      <td>2020</td>\n",
       "      <td>5.5</td>\n",
       "    </tr>\n",
       "    <tr>\n",
       "      <th>2</th>\n",
       "      <td>Austria</td>\n",
       "      <td>TOTAL</td>\n",
       "      <td>PC_ACT</td>\n",
       "      <td>T</td>\n",
       "      <td>AT</td>\n",
       "      <td>40</td>\n",
       "      <td>ISO 3166-2:AT</td>\n",
       "      <td>July</td>\n",
       "      <td>2020</td>\n",
       "      <td>5.7</td>\n",
       "    </tr>\n",
       "    <tr>\n",
       "      <th>3</th>\n",
       "      <td>Austria</td>\n",
       "      <td>TOTAL</td>\n",
       "      <td>THS_PER</td>\n",
       "      <td>F</td>\n",
       "      <td>AT</td>\n",
       "      <td>40</td>\n",
       "      <td>ISO 3166-2:AT</td>\n",
       "      <td>July</td>\n",
       "      <td>2020</td>\n",
       "      <td>129.0</td>\n",
       "    </tr>\n",
       "    <tr>\n",
       "      <th>4</th>\n",
       "      <td>Austria</td>\n",
       "      <td>TOTAL</td>\n",
       "      <td>THS_PER</td>\n",
       "      <td>M</td>\n",
       "      <td>AT</td>\n",
       "      <td>40</td>\n",
       "      <td>ISO 3166-2:AT</td>\n",
       "      <td>July</td>\n",
       "      <td>2020</td>\n",
       "      <td>134.0</td>\n",
       "    </tr>\n",
       "  </tbody>\n",
       "</table>\n",
       "</div>"
      ],
      "text/plain": [
       "   COUNTRY    AGE     UNIT SEX  C2  NUMERIC            ISO MONTH  YEAR  \\\n",
       "0  Austria  TOTAL   PC_ACT   F  AT       40  ISO 3166-2:AT  July  2020   \n",
       "1  Austria  TOTAL   PC_ACT   M  AT       40  ISO 3166-2:AT  July  2020   \n",
       "2  Austria  TOTAL   PC_ACT   T  AT       40  ISO 3166-2:AT  July  2020   \n",
       "3  Austria  TOTAL  THS_PER   F  AT       40  ISO 3166-2:AT  July  2020   \n",
       "4  Austria  TOTAL  THS_PER   M  AT       40  ISO 3166-2:AT  July  2020   \n",
       "\n",
       "   UNEMPLOYMENT_RATE  \n",
       "0                6.0  \n",
       "1                5.5  \n",
       "2                5.7  \n",
       "3              129.0  \n",
       "4              134.0  "
      ]
     },
     "execution_count": 378,
     "metadata": {},
     "output_type": "execute_result"
    }
   ],
   "source": [
    "data_tr_df = data_tr_df[['Country', 'age', 'unit', 'sex', 'C2', 'Numeric', 'Iso', 'Month', 'Year', 'Unemployment_Rate']]\n",
    "\n",
    "data_tr_df.columns = [col.upper() for col in data_tr_df.columns]\n",
    "\n",
    "data_tr_df.head()"
   ]
  },
  {
   "cell_type": "markdown",
   "metadata": {},
   "source": [
    "Filter for EU countries."
   ]
  },
  {
   "cell_type": "code",
   "execution_count": 379,
   "metadata": {},
   "outputs": [
    {
     "data": {
      "text/plain": [
       "(168691, 10)"
      ]
     },
     "execution_count": 379,
     "metadata": {},
     "output_type": "execute_result"
    }
   ],
   "source": [
    "eu_countries = ['AT','BE','BG','CY','CZ','DE','DK','EE','ES','FI','FR','GR','HR','HU','IE','IT','LT','LU','LV','MT','NL','PO','PT','RO','SE','SI','SK']  # Add the correct EU country codes\n",
    "data_tr_df = data_tr_df[data_tr_df['C2'].isin(eu_countries)]\n",
    "data_tr_df.shape"
   ]
  },
  {
   "cell_type": "markdown",
   "metadata": {},
   "source": [
    "Applying Z-Score method to identify outliers."
   ]
  },
  {
   "cell_type": "code",
   "execution_count": 380,
   "metadata": {},
   "outputs": [
    {
     "name": "stdout",
     "output_type": "stream",
     "text": [
      "Outliers identified by Z-Score method:\n",
      "     COUNTRY     AGE     UNIT SEX  C2  NUMERIC            ISO MONTH  YEAR  \\\n",
      "329  Germany   TOTAL  THS_PER   T  DE      276  ISO 3166-2:DE  July  2020   \n",
      "335  Germany  Y25-74  THS_PER   T  DE      276  ISO 3166-2:DE  July  2020   \n",
      "347  Germany   TOTAL  THS_PER   T  DE      276  ISO 3166-2:DE  July  2020   \n",
      "353  Germany  Y25-74  THS_PER   T  DE      276  ISO 3166-2:DE  July  2020   \n",
      "365  Germany   TOTAL  THS_PER   T  DE      276  ISO 3166-2:DE  July  2020   \n",
      "\n",
      "     UNEMPLOYMENT_RATE   Z_Score  \n",
      "329             1983.0  3.934924  \n",
      "335             1665.0  3.250953  \n",
      "347             1937.0  3.835985  \n",
      "353             1690.0  3.304725  \n",
      "365             1937.0  3.835985  \n"
     ]
    }
   ],
   "source": [
    "data_tr_df['Z_Score'] = np.abs(stats.zscore(data_tr_df['UNEMPLOYMENT_RATE'], nan_policy='omit'))\n",
    "threshold = 3\n",
    "outliers_z = data_tr_df[data_tr_df['Z_Score'] > threshold]\n",
    "print(\"Outliers identified by Z-Score method:\")\n",
    "print(outliers_z.head())"
   ]
  },
  {
   "cell_type": "markdown",
   "metadata": {},
   "source": [
    "Visualise the outliers identified by Z-Score."
   ]
  },
  {
   "cell_type": "code",
   "execution_count": 381,
   "metadata": {},
   "outputs": [
    {
     "data": {
      "image/png": "[encoded data removed]",
      "text/plain": [
       "<Figure size 1200x600 with 1 Axes>"
      ]
     },
     "metadata": {},
     "output_type": "display_data"
    }
   ],
   "source": [
    "# Scatter plot for all data\n",
    "plt.figure(figsize=(12, 6))\n",
    "plt.scatter(data_tr_df.index, data_tr_df['UNEMPLOYMENT_RATE'], color='blue', label='Regular data')\n",
    "\n",
    "# Scatter plot for outliers\n",
    "plt.scatter(outliers_z.index, outliers_z['UNEMPLOYMENT_RATE'], color='red', label='Outliers')\n",
    "plt.title(\"Scatter Plot of Unemployment Rate Highlighting Outliers\")\n",
    "plt.xlabel(\"Index\")\n",
    "plt.ylabel(\"Unemployment Rate\")\n",
    "plt.legend()\n",
    "plt.show()"
   ]
  },
  {
   "cell_type": "markdown",
   "metadata": {},
   "source": [
    "When looking the statistics we identify that the difference between maximum and minimum is big and we analyze further."
   ]
  },
  {
   "cell_type": "code",
   "execution_count": 382,
   "metadata": {},
   "outputs": [
    {
     "name": "stdout",
     "output_type": "stream",
     "text": [
      "             NUMERIC           YEAR  UNEMPLOYMENT_RATE        Z_Score\n",
      "count  168691.000000  168691.000000      168691.000000  168691.000000\n",
      "mean      382.222430    2014.788578         153.526511       0.440362\n",
      "std       214.183286       3.053046         464.933775       0.897823\n",
      "min        40.000000    2010.000000           0.000000       0.001018\n",
      "25%       208.000000    2012.000000           7.700000       0.242028\n",
      "50%       372.000000    2015.000000          19.000000       0.302682\n",
      "75%       528.000000    2017.000000          91.000000       0.317523\n",
      "max       752.000000    2020.000000        6321.000000      13.265312\n"
     ]
    }
   ],
   "source": [
    "print(data_tr_df.describe())"
   ]
  },
  {
   "cell_type": "markdown",
   "metadata": {},
   "source": [
    "The observed difference between the maximum and minimum values in the 'Unemployment_Rate' column arises from the inclusion of data measured in both percentage terms and as counts in thousands of people. To facilitate more precise analysis and visualization, it is advantageous to segregate the data into two distinct DataFrames, each corresponding to one of these measurement units."
   ]
  },
  {
   "cell_type": "code",
   "execution_count": 383,
   "metadata": {},
   "outputs": [
    {
     "data": {
      "text/html": [
       "<div>\n",
       "<style scoped>\n",
       "    .dataframe tbody tr th:only-of-type {\n",
       "        vertical-align: middle;\n",
       "    }\n",
       "\n",
       "    .dataframe tbody tr th {\n",
       "        vertical-align: top;\n",
       "    }\n",
       "\n",
       "    .dataframe thead th {\n",
       "        text-align: right;\n",
       "    }\n",
       "</style>\n",
       "<table border=\"1\" class=\"dataframe\">\n",
       "  <thead>\n",
       "    <tr style=\"text-align: right;\">\n",
       "      <th></th>\n",
       "      <th>COUNTRY</th>\n",
       "      <th>AGE</th>\n",
       "      <th>SEX</th>\n",
       "      <th>C2</th>\n",
       "      <th>NUMERIC</th>\n",
       "      <th>ISO</th>\n",
       "      <th>MONTH</th>\n",
       "      <th>YEAR</th>\n",
       "      <th>UNEMPLOYMENT_RATE</th>\n",
       "      <th>Z_Score</th>\n",
       "    </tr>\n",
       "  </thead>\n",
       "  <tbody>\n",
       "    <tr>\n",
       "      <th>0</th>\n",
       "      <td>Austria</td>\n",
       "      <td>TOTAL</td>\n",
       "      <td>F</td>\n",
       "      <td>AT</td>\n",
       "      <td>40</td>\n",
       "      <td>ISO 3166-2:AT</td>\n",
       "      <td>July</td>\n",
       "      <td>2020</td>\n",
       "      <td>6.0</td>\n",
       "      <td>0.317307</td>\n",
       "    </tr>\n",
       "    <tr>\n",
       "      <th>1</th>\n",
       "      <td>Austria</td>\n",
       "      <td>TOTAL</td>\n",
       "      <td>M</td>\n",
       "      <td>AT</td>\n",
       "      <td>40</td>\n",
       "      <td>ISO 3166-2:AT</td>\n",
       "      <td>July</td>\n",
       "      <td>2020</td>\n",
       "      <td>5.5</td>\n",
       "      <td>0.318383</td>\n",
       "    </tr>\n",
       "    <tr>\n",
       "      <th>2</th>\n",
       "      <td>Austria</td>\n",
       "      <td>TOTAL</td>\n",
       "      <td>T</td>\n",
       "      <td>AT</td>\n",
       "      <td>40</td>\n",
       "      <td>ISO 3166-2:AT</td>\n",
       "      <td>July</td>\n",
       "      <td>2020</td>\n",
       "      <td>5.7</td>\n",
       "      <td>0.317953</td>\n",
       "    </tr>\n",
       "    <tr>\n",
       "      <th>6</th>\n",
       "      <td>Austria</td>\n",
       "      <td>Y25-74</td>\n",
       "      <td>F</td>\n",
       "      <td>AT</td>\n",
       "      <td>40</td>\n",
       "      <td>ISO 3166-2:AT</td>\n",
       "      <td>July</td>\n",
       "      <td>2020</td>\n",
       "      <td>5.2</td>\n",
       "      <td>0.319028</td>\n",
       "    </tr>\n",
       "    <tr>\n",
       "      <th>7</th>\n",
       "      <td>Austria</td>\n",
       "      <td>Y25-74</td>\n",
       "      <td>M</td>\n",
       "      <td>AT</td>\n",
       "      <td>40</td>\n",
       "      <td>ISO 3166-2:AT</td>\n",
       "      <td>July</td>\n",
       "      <td>2020</td>\n",
       "      <td>4.6</td>\n",
       "      <td>0.320319</td>\n",
       "    </tr>\n",
       "  </tbody>\n",
       "</table>\n",
       "</div>"
      ],
      "text/plain": [
       "   COUNTRY     AGE SEX  C2  NUMERIC            ISO MONTH  YEAR  \\\n",
       "0  Austria   TOTAL   F  AT       40  ISO 3166-2:AT  July  2020   \n",
       "1  Austria   TOTAL   M  AT       40  ISO 3166-2:AT  July  2020   \n",
       "2  Austria   TOTAL   T  AT       40  ISO 3166-2:AT  July  2020   \n",
       "6  Austria  Y25-74   F  AT       40  ISO 3166-2:AT  July  2020   \n",
       "7  Austria  Y25-74   M  AT       40  ISO 3166-2:AT  July  2020   \n",
       "\n",
       "   UNEMPLOYMENT_RATE   Z_Score  \n",
       "0                6.0  0.317307  \n",
       "1                5.5  0.318383  \n",
       "2                5.7  0.317953  \n",
       "6                5.2  0.319028  \n",
       "7                4.6  0.320319  "
      ]
     },
     "execution_count": 383,
     "metadata": {},
     "output_type": "execute_result"
    }
   ],
   "source": [
    "ts_df_pct = data_tr_df[data_tr_df[\"UNIT\"] == \"PC_ACT\"].drop(\"UNIT\", axis=1)  # Percentage Active Population\n",
    "ts_df_th = data_tr_df[data_tr_df[\"UNIT\"] == \"THS_PER\"].drop(\"UNIT\", axis=1)  # Thousands Person\n",
    "ts_df_pct.head(5)"
   ]
  },
  {
   "cell_type": "code",
   "execution_count": 384,
   "metadata": {},
   "outputs": [
    {
     "name": "stdout",
     "output_type": "stream",
     "text": [
      "            NUMERIC          YEAR  UNEMPLOYMENT_RATE       Z_Score\n",
      "count  84335.000000  84335.000000       84335.000000  84335.000000\n",
      "mean     382.244122   2014.787929          12.163285      0.304051\n",
      "std      214.188431      3.052691           8.881315      0.019102\n",
      "min       40.000000   2010.000000           1.100000      0.199441\n",
      "25%      208.000000   2012.000000           6.000000      0.296874\n",
      "50%      372.000000   2015.000000           9.100000      0.310640\n",
      "75%      528.000000   2017.000000          15.500000      0.317307\n",
      "max      752.000000   2020.000000          60.800000      0.327847\n"
     ]
    }
   ],
   "source": [
    "print(ts_df_pct.describe())"
   ]
  },
  {
   "cell_type": "markdown",
   "metadata": {},
   "source": [
    "Calculate Z-Scores for the 'PC_ACT' subset"
   ]
  },
  {
   "cell_type": "code",
   "execution_count": 385,
   "metadata": {},
   "outputs": [
    {
     "name": "stdout",
     "output_type": "stream",
     "text": [
      "Outliers identified by Z-Score method:\n",
      "    COUNTRY     AGE SEX  C2  NUMERIC            ISO MONTH  YEAR  \\\n",
      "498   Spain  Y_LT25   F  ES      724  ISO 3166-2:ES  July  2020   \n",
      "499   Spain  Y_LT25   M  ES      724  ISO 3166-2:ES  July  2020   \n",
      "500   Spain  Y_LT25   T  ES      724  ISO 3166-2:ES  July  2020   \n",
      "516   Spain  Y_LT25   F  ES      724  ISO 3166-2:ES  July  2020   \n",
      "517   Spain  Y_LT25   M  ES      724  ISO 3166-2:ES  July  2020   \n",
      "\n",
      "     UNEMPLOYMENT_RATE   Z_Score  \n",
      "498               40.0  3.134320  \n",
      "499               40.2  3.156839  \n",
      "500               40.1  3.145579  \n",
      "516               42.0  3.359513  \n",
      "517               41.4  3.291955  \n"
     ]
    }
   ],
   "source": [
    "ts_df_pct['Z_Score'] = np.abs(stats.zscore(ts_df_pct['UNEMPLOYMENT_RATE'], nan_policy='omit'))\n",
    "threshold = 3\n",
    "outliers_pct_z = ts_df_pct[ts_df_pct['Z_Score'] > threshold]\n",
    "print(\"Outliers identified by Z-Score method:\")\n",
    "print(outliers_pct_z.head())"
   ]
  },
  {
   "cell_type": "markdown",
   "metadata": {},
   "source": [
    "Visualize the 'PC_ACT' subset outliers using scatter plot."
   ]
  },
  {
   "cell_type": "code",
   "execution_count": 386,
   "metadata": {},
   "outputs": [
    {
     "data": {
      "image/png": "[encoded data removed]",
      "text/plain": [
       "<Figure size 1200x600 with 1 Axes>"
      ]
     },
     "metadata": {},
     "output_type": "display_data"
    }
   ],
   "source": [
    "plt.figure(figsize=(12, 6))\n",
    "plt.scatter(ts_df_pct.index, ts_df_pct['UNEMPLOYMENT_RATE'], color='blue', label='Regular data', alpha=0.6)\n",
    "# Highlight the outliers\n",
    "plt.scatter(outliers_pct_z.index, outliers_pct_z['UNEMPLOYMENT_RATE'], color='red', label='Z-score Outliers', alpha=0.8)\n",
    "plt.title(\"Scatter Plot of Percentage Active Population Unemployment Rate with Outliers\")\n",
    "plt.xlabel(\"Index\")\n",
    "plt.ylabel(\"Unemployment Rate (%)\")\n",
    "plt.legend()\n",
    "plt.show()"
   ]
  }
 ],
 "metadata": {
  "kernelspec": {
   "display_name": "Python 3",
   "language": "python",
   "name": "python3"
  },
  "language_info": {
   "codemirror_mode": {
    "name": "ipython",
    "version": 3
   },
   "file_extension": ".py",
   "mimetype": "text/x-python",
   "name": "python",
   "nbconvert_exporter": "python",
   "pygments_lexer": "ipython3",
   "version": "3.9.0"
  }
 },
 "nbformat": 4,
 "nbformat_minor": 2
}
